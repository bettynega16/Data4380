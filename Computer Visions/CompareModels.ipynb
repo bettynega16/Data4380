{
 "cells": [
  {
   "cell_type": "code",
   "execution_count": 1,
   "id": "adef7a51",
   "metadata": {},
   "outputs": [
    {
     "name": "stderr",
     "output_type": "stream",
     "text": [
      "C:\\Users\\sarah\\anaconda3\\lib\\site-packages\\scipy\\__init__.py:146: UserWarning: A NumPy version >=1.16.5 and <1.23.0 is required for this version of SciPy (detected version 1.26.4\n",
      "  warnings.warn(f\"A NumPy version >={np_minversion} and <{np_maxversion}\"\n"
     ]
    },
    {
     "name": "stdout",
     "output_type": "stream",
     "text": [
      "Found 500 images belonging to 5 classes.\n",
      "Found 395 images belonging to 5 classes.\n"
     ]
    }
   ],
   "source": [
    "import tensorflow as tf\n",
    "from tensorflow.keras.applications import MobileNetV2\n",
    "from tensorflow.keras.layers import GlobalAveragePooling2D, Dense\n",
    "from tensorflow.keras.models import Model\n",
    "from tensorflow.keras.optimizers import Adam\n",
    "from tensorflow.keras.callbacks import ModelCheckpoint, EarlyStopping\n",
    "import matplotlib.pyplot as plt\n",
    "\n",
    "from dataloader import prepare_data, create_generators, visualize_images\n",
    "\n",
    "\n",
    "# Select classes and prepare data\n",
    "classes = [\"Angelina Jolie\", \"Brad Pitt\", \"Denzel Washington\",\n",
    "           \"Hugh Jackman\", \"Jennifer Lawrence\"]\n",
    "prepare_data(classes)\n",
    "\n",
    "# Create data generators\n",
    "train_dir = \"train_data\"\n",
    "test_dir = \"test_data\"\n",
    "train_generator, test_generator = create_generators(train_dir, test_dir)"
   ]
  },
  {
   "cell_type": "code",
   "execution_count": 2,
   "id": "64290fe8",
   "metadata": {},
   "outputs": [],
   "source": [
    "from sklearn.metrics import roc_curve, auc"
   ]
  },
  {
   "cell_type": "code",
   "execution_count": 3,
   "id": "a6112b6f",
   "metadata": {},
   "outputs": [
    {
     "name": "stderr",
     "output_type": "stream",
     "text": [
      "WARNING:absl:Compiled the loaded model, but the compiled metrics have yet to be built. `model.compile_metrics` will be empty until you train or evaluate the model.\n",
      "WARNING:absl:Compiled the loaded model, but the compiled metrics have yet to be built. `model.compile_metrics` will be empty until you train or evaluate the model.\n",
      "WARNING:absl:Compiled the loaded model, but the compiled metrics have yet to be built. `model.compile_metrics` will be empty until you train or evaluate the model.\n"
     ]
    }
   ],
   "source": [
    "# Load the models\n",
    "baseline_model = tf.keras.models.load_model('baseline_model.h5')\n",
    "mobilenet_model = tf.keras.models.load_model('mobilenet_model.h5')\n",
    "mobilenetv2_model = tf.keras.models.load_model('mobilenetv2_model.h5')"
   ]
  },
  {
   "cell_type": "code",
   "execution_count": 4,
   "id": "0f2939b3",
   "metadata": {},
   "outputs": [
    {
     "name": "stderr",
     "output_type": "stream",
     "text": [
      "C:\\Users\\sarah\\anaconda3\\lib\\site-packages\\keras\\src\\trainers\\data_adapters\\py_dataset_adapter.py:120: UserWarning: Your `PyDataset` class should call `super().__init__(**kwargs)` in its constructor. `**kwargs` can include `workers`, `use_multiprocessing`, `max_queue_size`. Do not pass these arguments to `fit()`, as they will be ignored.\n",
      "  self._warn_if_super_not_called()\n"
     ]
    },
    {
     "name": "stdout",
     "output_type": "stream",
     "text": [
      "\u001b[1m20/20\u001b[0m \u001b[32m━━━━━━━━━━━━━━━━━━━━\u001b[0m\u001b[37m\u001b[0m \u001b[1m3s\u001b[0m 145ms/step\n",
      "\u001b[1m20/20\u001b[0m \u001b[32m━━━━━━━━━━━━━━━━━━━━\u001b[0m\u001b[37m\u001b[0m \u001b[1m4s\u001b[0m 166ms/step\n",
      "\u001b[1m20/20\u001b[0m \u001b[32m━━━━━━━━━━━━━━━━━━━━\u001b[0m\u001b[37m\u001b[0m \u001b[1m5s\u001b[0m 196ms/step\n"
     ]
    }
   ],
   "source": [
    "# Make predictions using all three models on the validation dataset\n",
    "baseline_predictions = baseline_model.predict(test_generator)\n",
    "mobilenet_predictions = mobilenet_model.predict(test_generator)\n",
    "mobilenetv2_predictions = mobilenetv2_model.predict(test_generator)"
   ]
  },
  {
   "cell_type": "code",
   "execution_count": 5,
   "id": "5cf03d7d",
   "metadata": {},
   "outputs": [],
   "source": [
    "# Get true labels from the test generator\n",
    "true_labels = test_generator.classes"
   ]
  },
  {
   "cell_type": "code",
   "execution_count": 9,
   "id": "3fa4c042",
   "metadata": {},
   "outputs": [
    {
     "data": {
      "text/plain": [
       "5"
      ]
     },
     "execution_count": 9,
     "metadata": {},
     "output_type": "execute_result"
    }
   ],
   "source": [
    "import numpy as np\n",
    "\n",
    "# Infer the number of classes from the shape of true labels or predictions\n",
    "num_classes = len(np.unique(true_labels))\n",
    "num_classes"
   ]
  },
  {
   "cell_type": "code",
   "execution_count": 10,
   "id": "aa39fe64",
   "metadata": {},
   "outputs": [
    {
     "name": "stdout",
     "output_type": "stream",
     "text": [
      "Baseline Model AUC per Class: [0.45377343374459217, 0.4842675725956483, 0.4981598317560463, 0.5355036565227649, 0.533728569139561]\n",
      "MobileNet Model AUC per Class: [0.44500080115366125, 0.5423036479818814, 0.5115667718191378, 0.4700007863489817, 0.5496514981573466]\n",
      "MobileNetV2 Model AUC per Class: [0.5152219195641724, 0.49126425624848336, 0.5319703955350642, 0.42799009200283084, 0.5164637077391443]\n"
     ]
    }
   ],
   "source": [
    "from sklearn.metrics import roc_auc_score\n",
    "\n",
    "# Calculate AUC scores for each class individually\n",
    "baseline_auc_per_class = []\n",
    "mobilenet_auc_per_class = []\n",
    "mobilenetv2_auc_per_class = []\n",
    "\n",
    "for class_index in range(num_classes):\n",
    "    baseline_auc_per_class.append(roc_auc_score((true_labels == class_index).astype(int), baseline_predictions[:, class_index]))\n",
    "    mobilenet_auc_per_class.append(roc_auc_score((true_labels == class_index).astype(int), mobilenet_predictions[:, class_index]))\n",
    "    mobilenetv2_auc_per_class.append(roc_auc_score((true_labels == class_index).astype(int), mobilenetv2_predictions[:, class_index]))\n",
    "\n",
    "print(\"Baseline Model AUC per Class:\", baseline_auc_per_class)\n",
    "print(\"MobileNet Model AUC per Class:\", mobilenet_auc_per_class)\n",
    "print(\"MobileNetV2 Model AUC per Class:\", mobilenetv2_auc_per_class)\n"
   ]
  },
  {
   "cell_type": "code",
   "execution_count": 14,
   "id": "cdbb7f5c",
   "metadata": {},
   "outputs": [],
   "source": [
    "# Calculate mean ROC curves and standard deviations for each model\n",
    "baseline_mean_fpr, baseline_mean_tpr = np.zeros(1000), np.linspace(0, 1, 1000)\n",
    "mobilenet_mean_fpr, mobilenet_mean_tpr = np.zeros(1000), np.linspace(0, 1, 1000)\n",
    "mobilenetv2_mean_fpr, mobilenetv2_mean_tpr = np.zeros(1000), np.linspace(0, 1, 1000)\n",
    "\n",
    "baseline_auc_per_class = np.array(baseline_auc_per_class)\n",
    "mobilenet_auc_per_class = np.array(mobilenet_auc_per_class)\n",
    "mobilenetv2_auc_per_class = np.array(mobilenetv2_auc_per_class)\n",
    "\n",
    "for i in range(num_classes):\n",
    "    baseline_mean_fpr, baseline_mean_tpr, _ = roc_curve(true_labels, baseline_predictions[:, i], pos_label=i)\n",
    "    mobilenet_mean_fpr, mobilenet_mean_tpr, _ = roc_curve(true_labels, mobilenet_predictions[:, i], pos_label=i)\n",
    "    mobilenetv2_mean_fpr, mobilenetv2_mean_tpr, _ = roc_curve(true_labels, mobilenetv2_predictions[:, i], pos_label=i)\n"
   ]
  },
  {
   "cell_type": "code",
   "execution_count": 15,
   "id": "9d59c103",
   "metadata": {},
   "outputs": [
    {
     "data": {
      "image/png": "[encoded data removed]",
      "text/plain": [
       "<Figure size 432x288 with 1 Axes>"
      ]
     },
     "metadata": {
      "needs_background": "light"
     },
     "output_type": "display_data"
    }
   ],
   "source": [
    "# Plot mean ROC curves\n",
    "plt.plot(baseline_mean_fpr, baseline_mean_tpr, color='blue', lw=2, label=f'Baseline Model')\n",
    "plt.plot(mobilenet_mean_fpr, mobilenet_mean_tpr, color='red', lw=2, label=f'MobileNet Model')\n",
    "plt.plot(mobilenetv2_mean_fpr, mobilenetv2_mean_tpr, color='green', lw=2, label=f'MobileNetV2 Model')\n",
    "\n",
    "plt.xlabel('False Positive Rate')\n",
    "plt.ylabel('True Positive Rate')\n",
    "plt.title('Mean ROC Curves on Validation Dataset')\n",
    "plt.legend(loc='lower right')\n",
    "plt.grid(True)\n",
    "plt.show()"
   ]
  },
  {
   "cell_type": "code",
   "execution_count": null,
   "id": "3d47931c",
   "metadata": {},
   "outputs": [],
   "source": []
  }
 ],
 "metadata": {
  "kernelspec": {
   "display_name": "Python 3 (ipykernel)",
   "language": "python",
   "name": "python3"
  },
  "language_info": {
   "codemirror_mode": {
    "name": "ipython",
    "version": 3
   },
   "file_extension": ".py",
   "mimetype": "text/x-python",
   "name": "python",
   "nbconvert_exporter": "python",
   "pygments_lexer": "ipython3",
   "version": "3.9.7"
  }
 },
 "nbformat": 4,
 "nbformat_minor": 5
}
